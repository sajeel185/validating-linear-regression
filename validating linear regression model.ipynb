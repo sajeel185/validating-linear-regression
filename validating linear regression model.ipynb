{
 "cells": [
  {
   "cell_type": "code",
   "execution_count": 27,
   "metadata": {},
   "outputs": [],
   "source": [
    "import math\n",
    "import warnings\n",
    "\n",
    "from IPython.display import display\n",
    "from matplotlib import pyplot as plt\n",
    "import numpy as np\n",
    "import pandas as pd\n",
    "import seaborn as sns\n",
    "from sklearn import linear_model\n",
    "import statsmodels.formula.api as smf\n",
    "import re\n",
    "from sklearn.model_selection import train_test_split\n",
    "from sklearn.naive_bayes import BernoulliNB\n",
    "bnb = BernoulliNB()"
   ]
  },
  {
   "cell_type": "code",
   "execution_count": 28,
   "metadata": {
    "scrolled": true
   },
   "outputs": [],
   "source": [
    "df = pd.read_csv('new york crime.csv')\n",
    "df = df.drop_duplicates()\n",
    "df = df.fillna(0)\n",
    "\n",
    "#print(df.head())\n",
    "#print(df.shape)"
   ]
  },
  {
   "cell_type": "code",
   "execution_count": 29,
   "metadata": {},
   "outputs": [],
   "source": [
    "df['Population'] = df['Population'].str.replace(',','')\n",
    "pop_numeric = pd.to_numeric(df['Population'])\n",
    "df['PopSquared'] = pop_numeric ** 2\n",
    "\n",
    "#print(df['PopSquared'])\n"
   ]
  },
  {
   "cell_type": "code",
   "execution_count": 30,
   "metadata": {},
   "outputs": [
    {
     "name": "stdout",
     "output_type": "stream",
     "text": [
      "                       City Population Violent\\ncrime  \\\n",
      "0             Adams Village       1861              0   \n",
      "1  Addison Town and Village       2577              3   \n",
      "2             Akron Village       2846              3   \n",
      "3                    Albany      97956            791   \n",
      "4            Albion Village       6388             23   \n",
      "\n",
      "   Murder and\\nnonnegligent\\nmanslaughter  Rape\\n(revised\\ndefinition)1  \\\n",
      "0                                       0                           0.0   \n",
      "1                                       0                           0.0   \n",
      "2                                       0                           0.0   \n",
      "3                                       8                           0.0   \n",
      "4                                       0                           0.0   \n",
      "\n",
      "  Rape\\n(legacy\\ndefinition)2 Robbery Aggravated\\nassault Property\\ncrime  \\\n",
      "0                           0       0                   0              12   \n",
      "1                           0       0                   3              24   \n",
      "2                           0       0                   3              16   \n",
      "3                          30     227                 526           4,090   \n",
      "4                           3       4                  16             223   \n",
      "\n",
      "  Burglary Larceny-\\ntheft Motor\\nvehicle\\ntheft  Arson3  PopSquared  \\\n",
      "0        2              10                     0     0.0     3463321   \n",
      "1        3              20                     1     0.0     6640929   \n",
      "2        1              15                     0     0.0     8099716   \n",
      "3      705            3243                   142     0.0  9595377936   \n",
      "4       53             165                     5     0.0    40806544   \n",
      "\n",
      "   IndicateMurder  IndicateRobbery  IndicateLarceny  IndicateBurglary  \\\n",
      "0               0                0                1                 1   \n",
      "1               0                0                1                 1   \n",
      "2               0                0                1                 1   \n",
      "3               1                1                1                 1   \n",
      "4               0                1                1                 1   \n",
      "\n",
      "   IndicateGTA  IndicateArson  \n",
      "0            0              0  \n",
      "1            1              0  \n",
      "2            0              0  \n",
      "3            1              0  \n",
      "4            1              0  \n"
     ]
    }
   ],
   "source": [
    "df['IndicateMurder'] = np.where(df['Murder and\\nnonnegligent\\nmanslaughter'] > 0, 1, 0)\n",
    "r_numeric = pd.to_numeric(df['Robbery'], errors='coerce').fillna(0)\n",
    "df['IndicateRobbery'] = np.where(r_numeric > 0, 1, 0)\n",
    "\n",
    "df['Larceny-\\ntheft'] = df['Larceny-\\ntheft'].str.replace(',','')\n",
    "larceny_numeric = pd.to_numeric(df['Larceny-\\ntheft'])\n",
    "df['IndicateLarceny'] = np.where(larceny_numeric > 0, 1, 0)\n",
    "\n",
    "df['Burglary'] = df['Burglary'].str.replace(',','')\n",
    "burglary_numeric = pd.to_numeric(df['Burglary'])\n",
    "df['IndicateBurglary'] = np.where(burglary_numeric > 0, 1, 0)\n",
    "\n",
    "df['Motor\\nvehicle\\ntheft'] = df['Motor\\nvehicle\\ntheft'].str.replace(',','')\n",
    "gta_numeric = pd.to_numeric(df['Motor\\nvehicle\\ntheft'])\n",
    "df['IndicateGTA'] = np.where(gta_numeric > 0, 1, 0)\n",
    "\n",
    "df['IndicateArson'] = df['Arson3'].astype(int)\n",
    "\n",
    "\n",
    "print(df.head())"
   ]
  },
  {
   "cell_type": "code",
   "execution_count": 31,
   "metadata": {},
   "outputs": [
    {
     "name": "stdout",
     "output_type": "stream",
     "text": [
      "\n",
      "Coefficients: \n",
      " [[ 2.00847061e-09  1.24282542e+02 -3.41207585e+01  3.25502909e+02\n",
      "   7.90704269e+01]]\n",
      "\n",
      "Intercept: \n",
      " [-17.61544106]\n",
      "\n",
      "R-squared:\n",
      "0.989412065019866\n"
     ]
    }
   ],
   "source": [
    "df['Property\\ncrime'] = df['Property\\ncrime'].str.replace(',','')\n",
    "pd.to_numeric(df['Property\\ncrime'])\n",
    "\n",
    "# Instantiate and fit our model.\n",
    "regr = linear_model.LinearRegression()\n",
    "Y = df['Property\\ncrime'].values.reshape(-1, 1)\n",
    "X = df[['PopSquared', 'IndicateBurglary', 'IndicateLarceny', 'IndicateGTA', 'IndicateArson']]\n",
    "\n",
    "regr.fit(X, Y)\n",
    "\n",
    "# Inspect the results.\n",
    "print('\\nCoefficients: \\n', regr.coef_)\n",
    "print('\\nIntercept: \\n', regr.intercept_)\n",
    "print('\\nR-squared:')\n",
    "print(regr.score(X, Y))"
   ]
  },
  {
   "cell_type": "code",
   "execution_count": 32,
   "metadata": {},
   "outputs": [
    {
     "name": "stdout",
     "output_type": "stream",
     "text": [
      "AxesSubplot(0.125,0.125;0.62x0.755)\n"
     ]
    },
    {
     "data": {
      "image/png": "[encoded data removed]",
      "text/plain": [
       "<Figure size 432x288 with 2 Axes>"
      ]
     },
     "metadata": {
      "needs_background": "light"
     },
     "output_type": "display_data"
    }
   ],
   "source": [
    "df_heat = sns.heatmap(df.corr(), vmin=-1, vmax=1)\n",
    "\n",
    "print(df_heat)"
   ]
  },
  {
   "cell_type": "code",
   "execution_count": 33,
   "metadata": {},
   "outputs": [
    {
     "name": "stdout",
     "output_type": "stream",
     "text": [
      "With 20% Holdout: 0.02857142857142857\n",
      "Testing on Sample: 0.04885057471264368\n"
     ]
    },
    {
     "name": "stderr",
     "output_type": "stream",
     "text": [
      "C:\\Users\\PV-R68G\\Anaconda3\\lib\\site-packages\\sklearn\\utils\\validation.py:578: DataConversionWarning: A column-vector y was passed when a 1d array was expected. Please change the shape of y to (n_samples, ), for example using ravel().\n",
      "  y = column_or_1d(y, warn=True)\n",
      "C:\\Users\\PV-R68G\\Anaconda3\\lib\\site-packages\\sklearn\\utils\\validation.py:578: DataConversionWarning: A column-vector y was passed when a 1d array was expected. Please change the shape of y to (n_samples, ), for example using ravel().\n",
      "  y = column_or_1d(y, warn=True)\n"
     ]
    }
   ],
   "source": [
    "# Use train_test_split to create the necessary training and test groups\n",
    "X_train, X_test, y_train, y_test = train_test_split(X, Y, test_size=0.2, random_state=20)\n",
    "print('With 20% Holdout: ' + str(bnb.fit(X_train, y_train).score(X_test, y_test)))\n",
    "print('Testing on Sample: ' + str(bnb.fit(X, Y).score(X, Y)))"
   ]
  }
 ],
 "metadata": {
  "kernelspec": {
   "display_name": "Python 3",
   "language": "python",
   "name": "python3"
  },
  "language_info": {
   "codemirror_mode": {
    "name": "ipython",
    "version": 3
   },
   "file_extension": ".py",
   "mimetype": "text/x-python",
   "name": "python",
   "nbconvert_exporter": "python",
   "pygments_lexer": "ipython3",
   "version": "3.7.0"
  }
 },
 "nbformat": 4,
 "nbformat_minor": 2
}
